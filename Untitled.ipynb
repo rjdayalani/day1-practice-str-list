{
 "cells": [
  {
   "cell_type": "code",
   "execution_count": null,
   "id": "837f7c09",
   "metadata": {},
   "outputs": [],
   "source": [
    "# abc"
   ]
  },
  {
   "cell_type": "code",
   "execution_count": 7,
   "id": "581ffe0e",
   "metadata": {},
   "outputs": [
    {
     "data": {
      "text/plain": [
       "5"
      ]
     },
     "execution_count": 7,
     "metadata": {},
     "output_type": "execute_result"
    }
   ],
   "source": [
    "x=5\n",
    "x"
   ]
  },
  {
   "cell_type": "code",
   "execution_count": 6,
   "id": "844ebbdd",
   "metadata": {},
   "outputs": [
    {
     "data": {
      "text/plain": [
       "5"
      ]
     },
     "execution_count": 6,
     "metadata": {},
     "output_type": "execute_result"
    }
   ],
   "source": [
    "x"
   ]
  },
  {
   "cell_type": "code",
   "execution_count": 10,
   "id": "27fdec69",
   "metadata": {},
   "outputs": [],
   "source": [
    "a=5-3.7"
   ]
  },
  {
   "cell_type": "code",
   "execution_count": 11,
   "id": "2dc3fff8",
   "metadata": {},
   "outputs": [
    {
     "data": {
      "text/plain": [
       "1.2999999999999998"
      ]
     },
     "execution_count": 11,
     "metadata": {},
     "output_type": "execute_result"
    }
   ],
   "source": [
    "a"
   ]
  },
  {
   "cell_type": "code",
   "execution_count": 12,
   "id": "dd081a40",
   "metadata": {},
   "outputs": [
    {
     "data": {
      "text/plain": [
       "1.5999999999999999"
      ]
     },
     "execution_count": 12,
     "metadata": {},
     "output_type": "execute_result"
    }
   ],
   "source": [
    "a+.3"
   ]
  },
  {
   "cell_type": "code",
   "execution_count": 27,
   "id": "214a95c6",
   "metadata": {},
   "outputs": [
    {
     "data": {
      "text/plain": [
       "4489.599999999999"
      ]
     },
     "execution_count": 27,
     "metadata": {},
     "output_type": "execute_result"
    }
   ],
   "source": [
    "g_h=92\n",
    "g_w=48.8\n",
    "area=g_h*g_w\n",
    "area"
   ]
  },
  {
   "cell_type": "code",
   "execution_count": 16,
   "id": "ca2a4102",
   "metadata": {},
   "outputs": [
    {
     "data": {
      "text/plain": [
       "6.59"
      ]
     },
     "execution_count": 16,
     "metadata": {},
     "output_type": "execute_result"
    }
   ],
   "source": [
    "a=9*1.49\n",
    "b=20-a\n",
    "b"
   ]
  },
  {
   "cell_type": "code",
   "execution_count": 18,
   "id": "754eca7b",
   "metadata": {},
   "outputs": [
    {
     "data": {
      "text/plain": [
       "15125.0"
      ]
     },
     "execution_count": 18,
     "metadata": {},
     "output_type": "execute_result"
    }
   ],
   "source": [
    "a=5.5**2\n",
    "b=a*500\n",
    "b"
   ]
  },
  {
   "cell_type": "code",
   "execution_count": 26,
   "id": "b0267444",
   "metadata": {},
   "outputs": [
    {
     "data": {
      "text/plain": [
       "'10001'"
      ]
     },
     "execution_count": 26,
     "metadata": {},
     "output_type": "execute_result"
    }
   ],
   "source": [
    "format(17,\"b\")"
   ]
  },
  {
   "cell_type": "code",
   "execution_count": 38,
   "id": "ed77bf65",
   "metadata": {},
   "outputs": [
    {
     "name": "stdout",
     "output_type": "stream",
     "text": [
      "my full name is:Rajeesh Jagdish Dayalani\n"
     ]
    }
   ],
   "source": [
    "f='Rajeesh'\n",
    "m='Jagdish'\n",
    "l='Dayalani'\n",
    "print(\"my full name is:\"+ f +\" \"+ m +\" \"+ l)"
   ]
  },
  {
   "cell_type": "code",
   "execution_count": 39,
   "id": "9d3f366a",
   "metadata": {},
   "outputs": [
    {
     "data": {
      "text/plain": [
       "2"
      ]
     },
     "execution_count": 39,
     "metadata": {},
     "output_type": "execute_result"
    }
   ],
   "source": [
    "17%3"
   ]
  },
  {
   "cell_type": "code",
   "execution_count": 93,
   "id": "b3643acd",
   "metadata": {},
   "outputs": [
    {
     "name": "stdout",
     "output_type": "stream",
     "text": [
      "my full add is \n",
      "ccx 240\n",
      "adipur \n",
      "India\n"
     ]
    }
   ],
   "source": [
    "street = 'ccx 240'\n",
    "city='adipur'\n",
    "country='India'\n",
    "#address=('my full adress is:'+'\\n'+ street + '\\n' + city + '\\n' + country)\n",
    "address=(f'my full add is \\n{street}\\n{city} \\n{country}')\n",
    "print(address)"
   ]
  },
  {
   "cell_type": "code",
   "execution_count": 108,
   "id": "e27767a8",
   "metadata": {},
   "outputs": [
    {
     "name": "stdout",
     "output_type": "stream",
     "text": [
      "revolves\n",
      "sun\n"
     ]
    }
   ],
   "source": [
    "e='Earth revolves around the sun'\n",
    "print(e[6:14])\n",
    "print(e[-3:])"
   ]
  },
  {
   "cell_type": "code",
   "execution_count": 116,
   "id": "32ee58a1",
   "metadata": {},
   "outputs": [
    {
     "name": "stdout",
     "output_type": "stream",
     "text": [
      "i eat daily \n",
      "vegitable =10 \n",
      " fruit=2\n"
     ]
    }
   ],
   "source": [
    "veg=10\n",
    "fru=2\n",
    "print(f'i eat daily \\nvegitable ={veg} \\n fruit={fru}' )"
   ]
  },
  {
   "cell_type": "code",
   "execution_count": 125,
   "id": "ba3a3228",
   "metadata": {},
   "outputs": [
    {
     "name": "stdout",
     "output_type": "stream",
     "text": [
      "i have eat 10 samosa\n"
     ]
    }
   ],
   "source": [
    "c='i have eat 200 banana'\n",
    "c=c.replace('200', '10').replace('banana', 'samosa')\n",
    "print(c)"
   ]
  },
  {
   "cell_type": "code",
   "execution_count": 129,
   "id": "e3eab77e",
   "metadata": {},
   "outputs": [
    {
     "name": "stdout",
     "output_type": "stream",
     "text": [
      "enter height of triangle10\n",
      "enter base of tringle14\n",
      "70.0\n"
     ]
    }
   ],
   "source": [
    "height=input('enter height of triangle')\n",
    "base=input('enter base of tringle')\n",
    "area=(1/2)*float(height)*float(base)\n",
    "print(area)"
   ]
  },
  {
   "cell_type": "code",
   "execution_count": 147,
   "id": "914ac382",
   "metadata": {},
   "outputs": [
    {
     "name": "stdout",
     "output_type": "stream",
     "text": [
      "enter file name with extraj.exe\n",
      "raj\n"
     ]
    }
   ],
   "source": [
    "fn=input('enter file name with ext')\n",
    "print(fn[:-4])"
   ]
  },
  {
   "cell_type": "code",
   "execution_count": 163,
   "id": "795cbd12",
   "metadata": {},
   "outputs": [
    {
     "data": {
      "text/plain": [
       "True"
      ]
     },
     "execution_count": 163,
     "metadata": {},
     "output_type": "execute_result"
    }
   ],
   "source": [
    "li=('my name is lakhan')\n",
    "'my' in li"
   ]
  },
  {
   "cell_type": "code",
   "execution_count": 207,
   "id": "6b42c95a",
   "metadata": {},
   "outputs": [
    {
     "data": {
      "text/plain": [
       "['raja', 'inside', 12.1213, 300.11, 23, (5+4j), '4k', 'mithai', 98]"
      ]
     },
     "execution_count": 207,
     "metadata": {},
     "output_type": "execute_result"
    }
   ],
   "source": [
    "l2=['raja', 'inside', 300.11, 23, 5+4j]\n",
    "l2.append('4k')\n",
    "l2.insert(2, 12.1213)\n",
    "l2\n",
    "l3=['mithai', 98]\n",
    "l4=l2+l3\n",
    "l4"
   ]
  },
  {
   "cell_type": "code",
   "execution_count": 213,
   "id": "277ccb1f",
   "metadata": {},
   "outputs": [
    {
     "data": {
      "text/plain": [
       "[98, 'mithai', '4k', (5+4j), 23, 300.11, 12.1213, 'inside', 'raja']"
      ]
     },
     "execution_count": 213,
     "metadata": {},
     "output_type": "execute_result"
    }
   ],
   "source": [
    "l4.reverse()\n",
    "l4"
   ]
  },
  {
   "cell_type": "code",
   "execution_count": 217,
   "id": "ba6b05dc",
   "metadata": {},
   "outputs": [
    {
     "data": {
      "text/plain": [
       "['jallo',\n",
       " 44,\n",
       " 'palav',\n",
       " 'dinchak',\n",
       " (5+4j),\n",
       " 23,\n",
       " 300.11,\n",
       " 12.1213,\n",
       " 'inside',\n",
       " 'raja']"
      ]
     },
     "execution_count": 217,
     "metadata": {},
     "output_type": "execute_result"
    }
   ],
   "source": [
    "l4[0:2]=['jallo', 44, 'palav', 'dinchak']\n",
    "l4"
   ]
  },
  {
   "cell_type": "code",
   "execution_count": 219,
   "id": "9253e0eb",
   "metadata": {},
   "outputs": [
    {
     "data": {
      "text/plain": [
       "49.0"
      ]
     },
     "execution_count": 219,
     "metadata": {},
     "output_type": "execute_result"
    }
   ],
   "source": [
    "j=l4[1]+l4[4].real\n",
    "j"
   ]
  },
  {
   "cell_type": "code",
   "execution_count": 233,
   "id": "e88f3b49",
   "metadata": {},
   "outputs": [
    {
     "name": "stdout",
     "output_type": "stream",
     "text": [
      "150\n",
      "7150\n",
      "False\n",
      "[2200, 2350, 2600, 2130, 2190, 'jan', 'feb', 'mar', 'apr', 'may', 1980]\n",
      "[2200, 2350, 2600, 1930, 2190, 'jan', 'feb', 'mar', 'apr', 'may', 1980]\n"
     ]
    }
   ],
   "source": [
    "exp=[2200, 2350, 2600, 2130, 2190, 'jan', 'feb', 'mar', 'apr', 'may']\n",
    "feb=exp[1]-exp[0]\n",
    "print(feb)\n",
    "print(exp[0]+exp[1]+exp[2])\n",
    "print (2000 in exp)\n",
    "exp.append(1980)\n",
    "print(exp)\n",
    "exp[3]=(exp[3]-200)\n",
    "print(exp)"
   ]
  },
  {
   "cell_type": "code",
   "execution_count": 250,
   "id": "8d79f3eb",
   "metadata": {},
   "outputs": [
    {
     "name": "stdout",
     "output_type": "stream",
     "text": [
      "5\n",
      "['spider man', 'thor', 'hulk', 'iron man', 'captain america', 'black panther']\n",
      "['spider man', 'thor', 'hulk', 'iron man', 'captain america']\n",
      "['spider man', 'thor', 'hulk', 'black panther', 'iron man', 'captain america']\n",
      "['spider man', 'doctor', 'black panther', 'iron man', 'captain america']\n",
      "['black panther', 'captain america', 'doctor', 'iron man', 'spider man']\n"
     ]
    }
   ],
   "source": [
    "hero=['spider man','thor','hulk','iron man','captain america']\n",
    "print (len(hero))\n",
    "hero.append('black panther')\n",
    "print(hero)\n",
    "hero.remove('black panther')\n",
    "print(hero)\n",
    "hero.insert(3,'black panther')\n",
    "print(hero)\n",
    "hero[1:3]=(['doctor'])\n",
    "print(hero)\n",
    "hero.sort()\n",
    "print(hero)"
   ]
  },
  {
   "cell_type": "code",
   "execution_count": null,
   "id": "c1a4d4c1",
   "metadata": {},
   "outputs": [],
   "source": []
  }
 ],
 "metadata": {
  "kernelspec": {
   "display_name": "Python 3 (ipykernel)",
   "language": "python",
   "name": "python3"
  },
  "language_info": {
   "codemirror_mode": {
    "name": "ipython",
    "version": 3
   },
   "file_extension": ".py",
   "mimetype": "text/x-python",
   "name": "python",
   "nbconvert_exporter": "python",
   "pygments_lexer": "ipython3",
   "version": "3.9.13"
  }
 },
 "nbformat": 4,
 "nbformat_minor": 5
}
